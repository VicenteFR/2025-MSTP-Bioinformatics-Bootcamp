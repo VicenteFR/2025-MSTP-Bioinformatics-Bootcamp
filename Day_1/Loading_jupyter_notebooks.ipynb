{
 "cells": [
  {
   "cell_type": "markdown",
   "metadata": {
    "vscode": {
     "languageId": "plaintext"
    }
   },
   "source": [
    "# <div align=\"center\"><b>Opening Jupyter Notebooks on TSCC</b></div>\n"
   ]
  },
  {
   "cell_type": "markdown",
   "metadata": {
    "vscode": {
     "languageId": "plaintext"
    }
   },
   "source": [
    "![image.png](../static/Day_1/lights.png)"
   ]
  },
  {
   "cell_type": "markdown",
   "metadata": {
    "vscode": {
     "languageId": "plaintext"
    }
   },
   "source": [
    "The command line is a bioinformatician's work horse, but sometimes it's nice to have a more user-friendly interface. Jupyter notebooks are a great way to interact with your data and code in a more visual way."
   ]
  },
  {
   "cell_type": "markdown",
   "metadata": {},
   "source": [
    "[Jupyter](https://jupyter.org/) notebooks are a great tool to keep track of the workflow for your data analysis. You can load up your results, manipulate them, make pretty figures, export your final data and figures to a file, all in one place!\n",
    "\n",
    "We installed Jupyter in our Installations, so (hopefully) no more installations will be necessary. You can see the executibles for jupyter in your miniconda bin."
   ]
  },
  {
   "cell_type": "markdown",
   "metadata": {},
   "source": [
    "`ls ~/miniconda3/bin`"
   ]
  },
  {
   "cell_type": "markdown",
   "metadata": {},
   "source": [
    "# Running Jupyter notebooks"
   ]
  },
  {
   "cell_type": "markdown",
   "metadata": {
    "vscode": {
     "languageId": "plaintext"
    }
   },
   "source": [
    "Normally, we could use the following command to run a Jupyter notebook:\n",
    "\n",
    "```bash\n",
    "jupyter notebook\n",
    "```"
   ]
  },
  {
   "cell_type": "markdown",
   "metadata": {
    "vscode": {
     "languageId": "plaintext"
    }
   },
   "source": [
    "This would genrate a Jupyter notebook session that we could access via a URL that you could copy and paste into your browser"
   ]
  },
  {
   "cell_type": "markdown",
   "metadata": {
    "vscode": {
     "languageId": "plaintext"
    }
   },
   "source": [
    "However, since we are on a remote server (TSCC), our local machines have no way of knowing where the Jupyter session lives."
   ]
  },
  {
   "cell_type": "markdown",
   "metadata": {
    "vscode": {
     "languageId": "plaintext"
    }
   },
   "source": [
    "Lucky for us, the nice folks over at TSCC have set up a program for us to run Jupyter notebooks on the server and access them on our local machines."
   ]
  },
  {
   "cell_type": "markdown",
   "metadata": {},
   "source": [
    "# Using `galyleo` to connect to Jupyter notebooks"
   ]
  },
  {
   "cell_type": "markdown",
   "metadata": {
    "vscode": {
     "languageId": "plaintext"
    }
   },
   "source": [
    "`galyleo` is a shell utility to help you launch Jupyter notebooks on high-performance computing (HPC) systems in a simple, secure way. To use `galyleo`, you need to first load the `galyleo` module on TSCC\n",
    "```bash\n",
    "module load galyleo\n",
    "```\n",
    "Note that we don't have to install `galyleo` because it is already comes pre-installed on TSCC."
   ]
  },
  {
   "cell_type": "markdown",
   "metadata": {},
   "source": [
    "It can then be run in much the same way as a interactive job on TSCC. Here is an example command:\n",
    "\n",
    "```bash\n",
    "galyleo launch --account htl191 --cpus 1 --memory 4 --time-limit 1:00:00 --partition hotel --qos hotel\n",
    "```"
   ]
  },
  {
   "cell_type": "markdown",
   "metadata": {
    "vscode": {
     "languageId": "plaintext"
    }
   },
   "source": [
    "Let's break that down:\n",
    "- `galyleo launch` is the command to start a Jupyter notebook session\n",
    "- `--account htl191` specifies the allocation to use. Remember this is the allocation we used for running the interactive job for installing software.\n",
    "- `--cpus 1` specifies the number of CPUs to use. This is the number of CPUs that will be allocated to the Jupyter notebook session. For the purposes of this bootcamp, we will only need 1 CPU.\n",
    "- `--memory 4` specifies the amount of memory to use. This is the amount of memory that will be allocated to the Jupyter notebook session. For the purposes of this bootcamp, we will only need 4 GB of memory.\n",
    "- `--time-limit 1:00:00` specifies the time limit for the Jupyter notebook session. \n",
    "- `--partition hotel` specifies the partition to use. This is the same partition we used for the interactive job for installing software.\n",
    "- `--qos hotel` specifies the quality of service to use. This is the same quality of service we used for the interactive job for installing software."
   ]
  },
  {
   "cell_type": "markdown",
   "metadata": {
    "vscode": {
     "languageId": "plaintext"
    }
   },
   "source": [
    "For more details and a full list of possible options: https://github.com/mkandes/galyleo"
   ]
  },
  {
   "cell_type": "markdown",
   "metadata": {},
   "source": [
    "If successful, you should see something like this:\n",
    "```bash\n",
    "Submitted Jupyter launch script to Slurm. Your SLURM_JOB_ID is 1994809.\n",
    "Success! Token linked to jobid.\n",
    "Please copy and paste the HTTPS URL provided below into your web browser.\n",
    "Do not share this URL with others. It is the password to your Jupyter notebook session.\n",
    "Your Jupyter notebook session will begin once compute resources are allocated to your job by the scheduler.\n",
    "https://shopping-strife-reexamine.tscc-user-content.sdsc.edu?token=d3f6d542acbfa6dcbccfcb0b9c9bd779\n",
    "```"
   ]
  },
  {
   "cell_type": "markdown",
   "metadata": {},
   "source": [
    "As the instructions inidicate, copy and paste the URL into your web browser. You should see a Jupyter notebook session open up in your browser."
   ]
  },
  {
   "cell_type": "markdown",
   "metadata": {},
   "source": [
    "## Starting a notebook"
   ]
  },
  {
   "cell_type": "markdown",
   "metadata": {},
   "source": [
    "JupyterLab provides a flexible and powerful user interface for programming in Python. You can create new notebooks, open existing ones, and perform many other tasks. Once opened, you should see a GUI interface like this:"
   ]
  },
  {
   "cell_type": "markdown",
   "metadata": {},
   "source": [
    "![image.png](../static/Day_1/jupyterlab.png)"
   ]
  },
  {
   "cell_type": "markdown",
   "metadata": {
    "vscode": {
     "languageId": "plaintext"
    }
   },
   "source": [
    "Most of the time, you will want to start a new notebook. This can be done anytime by clicking on the `+` sign in the top left corner of the JupyterLab interface and selecting any of the options under the `Notebook` section."
   ]
  },
  {
   "cell_type": "markdown",
   "metadata": {},
   "source": [
    "Here is where our previous installations come in handy. You can now use the Jupyter notebook to run Python code, and you can use the Python packages we installed to analyze your data."
   ]
  },
  {
   "cell_type": "markdown",
   "metadata": {},
   "source": [
    "Play around with Jupyter, notebooks, and the environment as a whole. We will work through these together initially. Notice on the `New` dropdown menu on the right you can see the first header as `Notebook:` and should see options to start a Python 3 or R notebook. You can select Python 3 to open a new python notebook."
   ]
  },
  {
   "cell_type": "markdown",
   "metadata": {},
   "source": [
    "# Ending a Jupyter notebook session\n",
    "\n",
    "When you are done with your Jupyter notebook session, you can close the tab in your browser. This will not end the session, but it will close the connection to the session. The session will continue to run on the server until the time limit is reached."
   ]
  },
  {
   "cell_type": "markdown",
   "metadata": {
    "vscode": {
     "languageId": "plaintext"
    }
   },
   "source": [
    "# PRO  TIP: iuse vscode"
   ]
  },
  {
   "cell_type": "markdown",
   "metadata": {
    "vscode": {
     "languageId": "plaintext"
    }
   },
   "source": [
    "# DONE!"
   ]
  },
  {
   "cell_type": "markdown",
   "metadata": {},
   "source": [
    "---"
   ]
  }
 ],
 "metadata": {
  "kernelspec": {
   "display_name": "Python 3",
   "language": "python",
   "name": "python3"
  },
  "language_info": {
   "codemirror_mode": {
    "name": "ipython",
    "version": 3
   },
   "file_extension": ".py",
   "mimetype": "text/x-python",
   "name": "python",
   "nbconvert_exporter": "python",
   "pygments_lexer": "ipython3",
   "version": "3.7.3"
  }
 },
 "nbformat": 4,
 "nbformat_minor": 4
}
