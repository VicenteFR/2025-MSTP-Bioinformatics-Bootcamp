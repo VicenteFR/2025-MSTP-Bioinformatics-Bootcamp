{
 "cells": [
  {
   "cell_type": "markdown",
   "id": "6dad2431",
   "metadata": {},
   "source": [
    "# Running GSEA and differential gene expression modules"
   ]
  },
  {
   "cell_type": "markdown",
   "id": "5282370b",
   "metadata": {},
   "source": [
    "### what is GSEA?\n",
    "\n",
    "Gene Set Enrichment Analysis (GSEA) is a computational method that determines whether an a priori defined set of genes shows statistically\n",
    "significant, concordant differences between two biological states\n",
    "(e.g. phenotypes).\n"
   ]
  },
  {
   "cell_type": "markdown",
   "id": "da0ba2c8",
   "metadata": {},
   "source": [
    "### Installing GSEApy"
   ]
  },
  {
   "cell_type": "markdown",
   "id": "1178b071",
   "metadata": {},
   "source": [
    "in your terminal run:\n",
    "\n",
    "conda install -c bioconda gseapy"
   ]
  },
  {
   "cell_type": "code",
   "execution_count": null,
   "id": "f74d8af5",
   "metadata": {},
   "outputs": [],
   "source": [
    "# importing modules\n",
    "import gseapy as gp\n",
    "import pandas as pd\n",
    "import numpy as np"
   ]
  },
  {
   "cell_type": "code",
   "execution_count": null,
   "id": "7a4fddff",
   "metadata": {},
   "outputs": [],
   "source": [
    "# reading in data\n",
    "\n",
    "fold_change_data=pd.read_csv(\"INSERT PATH HERE\",sep=\"\\t\")"
   ]
  },
  {
   "cell_type": "markdown",
   "id": "8f59dcf3",
   "metadata": {},
   "source": [
    "### formatting into rnk file\n",
    "\n",
    "what is an rnk file supposed to look like?\n",
    "\n",
    "You can sort by fold change in this case\n",
    "\n",
    "Gene  Value \\\n",
    "ATXN1 16.456753 \\\n",
    "UBQLN4\t13.989493 \\\n",
    "CALM1\t13.745533 \\\n",
    "DLG4\t12.796588 \\\n",
    "MRE11A\t12.787631 "
   ]
  },
  {
   "cell_type": "code",
   "execution_count": null,
   "id": "771c66e7",
   "metadata": {},
   "outputs": [],
   "source": [
    "fold_change_data.head()"
   ]
  },
  {
   "cell_type": "code",
   "execution_count": null,
   "id": "4db945d2",
   "metadata": {},
   "outputs": [],
   "source": [
    "# let's subset the dataframe down to columns of interest\n",
    "\n",
    "fold_change_data=fold_change_data[fold_change_data['foldchange']!=\"Not Determined\"]\n",
    "fold_change_data['foldchange'] = pd.to_numeric(fold_change_data['foldchange'])\n",
    "\n",
    "#make a new column that describes log2foldchange\n",
    "fold_change_data[\"log2foldchange\"]=np.log2(fold_change_data[\"Parental FPKM\"] / fold_change_data[\"Persister FPKM\"])\n",
    "\n",
    "#save a version for later plotting\n",
    "fold_change_data_plot=fold_change_data\n",
    "\n",
    "# can you determine which column names you should specify below?\n",
    "fold_change_data=fold_change_data[[\"INSERT COLUMN 1\",\"INSERT COLUMN 2\"]]"
   ]
  },
  {
   "cell_type": "code",
   "execution_count": null,
   "id": "c697c1df",
   "metadata": {},
   "outputs": [],
   "source": [
    "# now we need to sort the rnk file\n",
    "\n",
    "fold_change_data=fold_change_data.sort_values(by=\"INSERT COLUMN 2\",ascending=True)"
   ]
  },
  {
   "cell_type": "code",
   "execution_count": null,
   "id": "f7127e3f",
   "metadata": {},
   "outputs": [],
   "source": [
    "# run GSEA\n",
    "pre_res = gp.prerank(rnk=fold_change_data, # or rnk = rnk,\n",
    "                     gene_sets='KEGG_2016',\n",
    "                     min_size=5,\n",
    "                     max_size=500,\n",
    "                     permutation_num=1000, # reduce number to speed up testing\n",
    "                     outdir=None, # don't write to disk\n",
    "                     seed=6,\n",
    "                     verbose=True, # see what's going on behind the scenes\n",
    "                    )"
   ]
  },
  {
   "cell_type": "code",
   "execution_count": null,
   "id": "950fd4ed",
   "metadata": {},
   "outputs": [],
   "source": [
    "# import plotting functions\n",
    "import matplotlib.pyplot as plt"
   ]
  },
  {
   "cell_type": "code",
   "execution_count": null,
   "id": "6bac6405",
   "metadata": {},
   "outputs": [],
   "source": [
    "pre_res.res2d=pre_res.res2d[pre_res.res2d[\"fdr\"]<0.05]"
   ]
  },
  {
   "cell_type": "code",
   "execution_count": null,
   "id": "699db443",
   "metadata": {},
   "outputs": [],
   "source": [
    "# take the top and bottom 5 gene sets\n",
    "plot_df=pd.concat([pre_res.res2d.head(n=5),pre_res.res2d.tail(n=5)],axis=0)\n",
    "plot_df"
   ]
  },
  {
   "cell_type": "code",
   "execution_count": null,
   "id": "a2004e69",
   "metadata": {},
   "outputs": [],
   "source": [
    "import matplotlib.pyplot as plt\n",
    "import numpy as np\n",
    "\n",
    "# Example data (replace these with your actual data)\n",
    "enrichment_scores = plot_df[\"es\"]\n",
    "fdr_values = plot_df[\"fdr\"]\n",
    "gene_sets = list(plot_df.index.values)\n",
    "\n",
    "# Create a scatter plot\n",
    "fig, ax = plt.subplots(figsize=(10, 6))\n",
    "\n",
    "# Set colors for positive and negative enrichment scores\n",
    "positive_color = 'green'\n",
    "negative_color = 'red'\n",
    "\n",
    "# Determine dot size based on FDR values\n",
    "dot_size = [1/(fdr_value+0.01) for fdr_value in fdr_values]\n",
    "\n",
    "# Plot negative enrichment scores (to the left of x=0)\n",
    "ax.scatter(enrichment_scores, gene_sets, s=dot_size, color=negative_color, label='Depleted', marker='o')\n",
    "\n",
    "# Add vertical line at x=0\n",
    "ax.axvline(0, color='black', linestyle='--', linewidth=0.8)\n",
    "\n",
    "# Set x and y axis labels\n",
    "ax.set_xlabel('Enrichment Score', fontsize=14)\n",
    "ax.set_ylabel('Gene Sets', fontsize=14)\n",
    "\n",
    "# Add y-axis grid lines\n",
    "ax.grid(axis='y', linestyle='--', alpha=0.7)\n",
    "\n",
    "# Add title\n",
    "plt.title('GSEA Dot Plot', fontsize=16)\n",
    "\n",
    "# Add legend\n",
    "ax.legend(loc='upper right', fontsize=12)\n",
    "\n",
    "# Show the plot\n",
    "plt.tight_layout()\n",
    "plt.show()\n"
   ]
  },
  {
   "cell_type": "markdown",
   "id": "2bfb7d22",
   "metadata": {},
   "source": [
    "### what are volcano plots?\n",
    "\n",
    "volcano plots are a neat way to visualize differences between gene expression between conditions"
   ]
  },
  {
   "cell_type": "code",
   "execution_count": null,
   "id": "f9a4201b",
   "metadata": {},
   "outputs": [],
   "source": [
    "# plot volcano plot"
   ]
  },
  {
   "cell_type": "code",
   "execution_count": null,
   "id": "4e4ee8a3",
   "metadata": {},
   "outputs": [],
   "source": [
    "df=fold_change_data_plot\n",
    "\n",
    "fold_change = df['log2foldchange']\n",
    "q_values = df['q_value']\n",
    "gene_names = df['Gene ID']\n",
    "# Compute the negative logarithm of q-values (base 10)\n",
    "log_q_values = -np.log10(q_values)\n",
    "\n",
    "# Create a scatter plot (volcano plot)\n",
    "plt.figure(figsize=(10, 6))\n",
    "\n",
    "# Plot non-significant points (gray dots)\n",
    "plt.scatter(fold_change[q_values > 0.05], log_q_values[q_values > 0.05], color='gray', alpha=0.6, label='Non-significant')\n",
    "\n",
    "# Plot significantly upregulated genes (red dots)\n",
    "significant_up = (q_values <= 0.05) & (fold_change > 0)\n",
    "plt.scatter(fold_change[significant_up], log_q_values[significant_up], color='red', alpha=0.8, label='Upregulated')\n",
    "\n",
    "# Plot significantly downregulated genes (blue dots)\n",
    "significant_down = (q_values <= 0.05) & (fold_change < 0)\n",
    "plt.scatter(fold_change[significant_down], log_q_values[significant_down], color='blue', alpha=0.8, label='Downregulated')\n",
    "\n",
    "# Add horizontal line at -log10(q-value) = 1.3 (corresponding to q-value = 0.05)\n",
    "plt.axhline(y=1.3, color='gray', linestyle='--', linewidth=0.8)\n",
    "\n",
    "# Set axis labels and title\n",
    "plt.xlabel('Fold Change', fontsize=14)\n",
    "plt.ylabel('-log10(Q-Value)', fontsize=14)\n",
    "plt.title('Volcano Plot', fontsize=16)\n",
    "\n",
    "# Annotate significant samples with gene names\n",
    "significant_genes = gene_names[q_values <= 0.05]\n",
    "for gene_name, fc, log_q in zip(significant_genes, fold_change[q_values <= 0.05], log_q_values[q_values <= 0.05]):\n",
    "    plt.annotate(gene_name, xy=(fc, log_q), xytext=(5, 5), textcoords='offset points', fontsize=8, ha='left', va='bottom')\n",
    "\n",
    "# Add legend\n",
    "plt.legend()\n",
    "\n",
    "# Show the plot\n",
    "plt.tight_layout()\n",
    "plt.show()"
   ]
  },
  {
   "cell_type": "markdown",
   "id": "42f33a07",
   "metadata": {},
   "source": [
    "# TCGA experimentation"
   ]
  },
  {
   "cell_type": "code",
   "execution_count": null,
   "id": "549bd674",
   "metadata": {},
   "outputs": [],
   "source": [
    "# use top genes/pathways from analysis within TCGA\n",
    "\n",
    "# do top persistor pathways predict immunogenicity, surivival, and ???"
   ]
  },
  {
   "cell_type": "code",
   "execution_count": null,
   "id": "94ee87d2",
   "metadata": {},
   "outputs": [],
   "source": [
    "rna_xcell=pd.read_csv(\"path to TCGA_composite_file.txt\",sep=\"\\t\")"
   ]
  },
  {
   "cell_type": "code",
   "execution_count": null,
   "id": "16a6e8ac",
   "metadata": {},
   "outputs": [],
   "source": [
    "# set up stratification variable \n",
    "\n",
    "variable=\"CAMP\"\n",
    "\n",
    "mean=rna_xcell[variable].mean()\n",
    "rna_xcell[\"group\"]=np.where(rna_xcell[variable]>=mean,1,0)\n",
    "\n",
    "#gene set example\n",
    "#advanced task!\n",
    "geneset=plot_df[\"genes\"][0]\n",
    "geneset\n",
    "\n",
    "# some kind of linear combination of the genes from a given pathway?"
   ]
  },
  {
   "cell_type": "code",
   "execution_count": null,
   "id": "44168c35",
   "metadata": {},
   "outputs": [],
   "source": [
    "# plot km curves \n",
    "import matplotlib.pyplot as plt\n",
    "import matplotlib\n",
    "import lifelines #conda install -c conda-forge lifelines\n",
    "from lifelines import CoxPHFitter\n",
    "from lifelines import KaplanMeierFitter\n",
    "from lifelines.statistics import logrank_test\n",
    "\n",
    "surv_df_canc=rna_xcell\n",
    "\n",
    "surv_df_canc=surv_df_canc.dropna(subset=[\"OS\"])\n",
    "surv_df_canc=surv_df_canc.dropna(subset=[\"OS.time\"])\n",
    "\n",
    "surv_df_canc[\"OS\"][surv_df_canc[\"OS\"]==\"True\"]=1.0\n",
    "surv_df_canc[\"OS\"][surv_df_canc[\"OS\"]==\"Y\"]=1.0\n",
    "surv_df_canc[\"OS\"][surv_df_canc[\"OS\"]==\"Dead\"]=1.0\n",
    "surv_df_canc[\"OS\"][surv_df_canc[\"OS\"]==\"False\"]=0.0\n",
    "surv_df_canc[\"OS\"][surv_df_canc[\"OS\"]==\"Not available\"]=0.0\n",
    "surv_df_canc[\"OS\"][surv_df_canc[\"OS\"]==\"Alive\"]=0.0\n",
    "surv_df_canc[\"OS\"][surv_df_canc[\"OS\"]==\"Died not of Melanoma\"]=0.0\n",
    "surv_df_canc[\"OS\"]=pd.to_numeric(surv_df_canc[\"OS\"])\n",
    "\n",
    "fig=plt.figure(figsize=(7,7))\n",
    "ax1 = plt.subplot(1,1,1)\n",
    "\n",
    "kmf = KaplanMeierFitter()\n",
    "\n",
    "kmf.fit(surv_df_canc[surv_df_canc['group']==1]['OS.time'], surv_df_canc[surv_df_canc['group']==1]['OS'],label=\"0, N=\"+str(surv_df_canc[surv_df_canc['group']==1].shape[0]))\n",
    "kmf.plot(ci_show=False, ax=ax1)\n",
    "kmf.fit(surv_df_canc[surv_df_canc['group']==0]['OS.time'], surv_df_canc[surv_df_canc['group']==0]['OS'],label=\"1, N=\"+str(surv_df_canc[surv_df_canc['group']==0].shape[0]))\n",
    "kmf.plot(ci_show=False, ax=ax1)\n",
    "\n",
    "results = logrank_test(surv_df_canc[surv_df_canc[\"group\"]==0]['OS.time'], surv_df_canc[surv_df_canc[\"group\"]==1]['OS.time'],event_observed_A=surv_df_canc[surv_df_canc[\"group\"]==0]['OS'], event_observed_B=surv_df_canc[surv_df_canc[\"group\"]==1]['OS'], alpha=.95)\n",
    "\n",
    "plt.ylabel('% survival')\n",
    "plt.xlabel('OS time (days)')\n",
    "plt.title(\"0 vs 1 \"+str(np.round(results.p_value,4)))\n",
    "plt.legend(frameon=False)\n"
   ]
  },
  {
   "cell_type": "code",
   "execution_count": null,
   "id": "f537e9ba",
   "metadata": {},
   "outputs": [],
   "source": [
    "# immunoscore differences\n",
    "import seaborn as sns # conda install seaborn\n",
    "from scipy import stats # conda install scipy\n",
    "\n",
    "surv_df_canc=rna_xcell\n",
    "f=plt.figure(figsize=(5,5))\n",
    "\n",
    "ax=sns.boxplot(x=\"group\",y=\"ImmuneScore\",data=surv_df_canc)\n",
    "\n",
    "labels=[item.get_text() for item in ax.get_xticklabels()]\n",
    "labels=[x+\" (\"+str(len(surv_df_canc[surv_df_canc[\"group\"]==x]))+\")\" for x in labels]\n",
    "ax.set_xticklabels(labels)\n",
    "\n",
    "cat0 = surv_df_canc[(surv_df_canc[\"group\"]==0)].fillna(0)\n",
    "cat3 = surv_df_canc[(surv_df_canc[\"group\"]==1)].fillna(0)\n",
    "\n",
    "plt.title(\"neither vs both \"+str(np.round(stats.ttest_ind(cat0[\"group\"],cat3[\"group\"])[1],20)))#+\"\\n\"+\"neither vs y \"+str(np.round(stats.mannwhitneyu(cat0[x], cat2[x])[1],4))+\"\\n\"+\"both vs y \"+str(np.round(stats.mannwhitneyu(cat2[x], cat3[x])[1],4))+\"\\n\"+\"both vs x \"+str(np.round(stats.mannwhitneyu(cat1[x], cat3[x])[1],4))+\"\\n\"+\"x vs y \"+str(np.round(stats.mannwhitneyu(cat2[x], cat1[x])[1],4)))\n",
    "\n"
   ]
  },
  {
   "cell_type": "code",
   "execution_count": null,
   "id": "12f991fa",
   "metadata": {},
   "outputs": [],
   "source": []
  }
 ],
 "metadata": {
  "kernelspec": {
   "display_name": "Python 3 (ipykernel)",
   "language": "python",
   "name": "python3"
  },
  "language_info": {
   "codemirror_mode": {
    "name": "ipython",
    "version": 3
   },
   "file_extension": ".py",
   "mimetype": "text/x-python",
   "name": "python",
   "nbconvert_exporter": "python",
   "pygments_lexer": "ipython3",
   "version": "3.9.5"
  }
 },
 "nbformat": 4,
 "nbformat_minor": 5
}
