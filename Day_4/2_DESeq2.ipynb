{
 "cells": [
  {
   "cell_type": "markdown",
   "metadata": {},
   "source": [
    "# <div align=\"center\"><b>Differential expression analysis with DESeq2</b></div>"
   ]
  },
  {
   "cell_type": "markdown",
   "metadata": {},
   "source": [
    "We will use the DESeq2 package to perform differential expression analysis our counts data."
   ]
  },
  {
   "cell_type": "code",
   "execution_count": null,
   "metadata": {},
   "outputs": [],
   "source": [
    "# Start by importing useful packages\n",
    "import numpy as np\n",
    "import pandas as pd\n",
    "import seaborn as sns\n",
    "\n",
    "# DESeq2 imports\n",
    "from pydeseq2.dds import DeseqDataSet  # this is for the data structure we will create for DESeq2\n",
    "from pydeseq2.default_inference import DefaultInference  # this is for the inference engine we will use\n",
    "from pydeseq2.ds import DeseqStats  # \n",
    "\n",
    "# \n",
    "import decoupler as dc  # Helps us a plot a volcano plot :)"
   ]
  },
  {
   "cell_type": "code",
   "execution_count": null,
   "metadata": {},
   "outputs": [],
   "source": [
    "# It can also be useful to specify all your paths here so it is clear where things are coming from\n",
    "# TODO: Make sure this matches the path of your counts file\n",
    "path_counts = \"~/scratch/feature_counts/hangauer.results.counts\"# \n",
    "path_out = '~/scratch/differential_analysis'"
   ]
  },
  {
   "cell_type": "code",
   "execution_count": null,
   "metadata": {},
   "outputs": [],
   "source": [
    "# We can actually use python to create a directory if it doesn't exist\n",
    "import os\n",
    "\n",
    "if not os.path.exists(path_out):\n",
    "    os.makedirs(path_out)"
   ]
  },
  {
   "cell_type": "markdown",
   "metadata": {},
   "source": [
    "# 1) Load data"
   ]
  },
  {
   "cell_type": "markdown",
   "metadata": {},
   "source": [
    "We will load our data the same way we did in the previous notebook."
   ]
  },
  {
   "cell_type": "code",
   "execution_count": null,
   "metadata": {},
   "outputs": [],
   "source": [
    "# Load counts_df\n",
    "counts_df = pd.read_csv(path_counts, comment=\"#\", sep=\"\\t\", index_col=0)\n",
    "gene_info = counts_df.iloc[:, 0:5]\n",
    "counts_df = counts_df.iloc[:, 5:]\n",
    "counts_df = counts_df.rename(\n",
    "    columns=\n",
    "    {\n",
    "        counts_df.columns[0]:\"Parental1\",\n",
    "        counts_df.columns[1]:\"Parental2\",\n",
    "        counts_df.columns[2]:\"Persister1\",\n",
    "        counts_df.columns[3]:\"Persister2\",\n",
    "        counts_df.columns[4]:\"Persister3\"\n",
    "    }\n",
    ")\n",
    "counts_df = counts_df.T\n",
    "counts_df.head()"
   ]
  },
  {
   "cell_type": "code",
   "execution_count": null,
   "metadata": {},
   "outputs": [],
   "source": [
    "# We now need to create a sample information table with the condition of each sample\n",
    "metadata = pd.DataFrame(index=counts_df.index)\n",
    "metadata[\"condition\"] = metadata.index.str[:-1]\n",
    "metadata"
   ]
  },
  {
   "cell_type": "code",
   "execution_count": null,
   "metadata": {},
   "outputs": [],
   "source": [
    "# Filtering out any samples that don't have a condition\n",
    "samples_to_keep = ~metadata.condition.isna().values\n",
    "counts_df = counts_df.loc[samples_to_keep]\n",
    "metadata = metadata.loc[samples_to_keep]"
   ]
  },
  {
   "cell_type": "code",
   "execution_count": null,
   "metadata": {},
   "outputs": [],
   "source": [
    "# Filter genes that have less than 10 counts in all samples\n",
    "genes_to_keep = counts_df.columns[counts_df.sum(axis=0) >= 10]\n",
    "counts_df = counts_df[genes_to_keep]"
   ]
  },
  {
   "cell_type": "markdown",
   "metadata": {},
   "source": [
    "# 2) Running DESeq2"
   ]
  },
  {
   "cell_type": "code",
   "execution_count": null,
   "metadata": {},
   "outputs": [],
   "source": [
    "# This let's us use multiple processors (cpus) to speed up the analysis\n",
    "inference = DefaultInference(n_cpus=4)"
   ]
  },
  {
   "cell_type": "code",
   "execution_count": null,
   "metadata": {},
   "outputs": [],
   "source": [
    "# This is the data structure that DESeq2 will use\n",
    "# It is common for packages to implement their own data structures \n",
    "# that store all the information needed for the analysis\n",
    "dds = DeseqDataSet(\n",
    "    counts=counts_df,  # The counts table\n",
    "    metadata=metadata,  # The sample information table\n",
    "    design_factors=\"condition\",  # The column in the metadata that specifies the condition with which to compare\n",
    "    refit_cooks=True,  # This is a setting that can help with outliers\n",
    "    inference=inference,  # The inference engine to use\n",
    ")"
   ]
  },
  {
   "cell_type": "code",
   "execution_count": null,
   "metadata": {},
   "outputs": [],
   "source": [
    "# Run the DESeq2 pipeline!!! It's that easy!\n",
    "dds.deseq2()"
   ]
  },
  {
   "cell_type": "code",
   "execution_count": null,
   "metadata": {},
   "outputs": [],
   "source": [
    "# Extract the results of the analysis for the comparison of Persister vs Parental\n",
    "stat_res = DeseqStats(dds, inference=inference, contrast=[\"condition\", \"Persister\", \"Parental\"])\n",
    "stat_res.summary()"
   ]
  },
  {
   "cell_type": "code",
   "execution_count": null,
   "metadata": {},
   "outputs": [],
   "source": [
    "# Grab the dataframe with the differential expression results and print the first few rows\n",
    "res = stat_res.results_df\n",
    "res.head()"
   ]
  },
  {
   "cell_type": "markdown",
   "metadata": {},
   "source": [
    "# 3) Mapping to gene symbols"
   ]
  },
  {
   "cell_type": "markdown",
   "metadata": {},
   "source": [
    "The featureCounts tool we used to count reads used a different identifier for genes than the symbols most people are familiar with. So we need to map the gene identifiers to gene symbols. We use a function from the sanbomics package to do this."
   ]
  },
  {
   "cell_type": "code",
   "execution_count": null,
   "metadata": {},
   "outputs": [],
   "source": [
    "# Let's import the specific function we need from sanbomics\n",
    "from sanbomics.tools import id_map"
   ]
  },
  {
   "cell_type": "code",
   "execution_count": null,
   "metadata": {},
   "outputs": [],
   "source": [
    "# Let's load the id mapper for human\n",
    "mapper = id_map(species = 'human')\n",
    "mapper"
   ]
  },
  {
   "cell_type": "code",
   "execution_count": null,
   "metadata": {},
   "outputs": [],
   "source": [
    "# We can now map the ensembl gene ids to gene symbols and check it\n",
    "res[\"ensembl_gene_id\"] = res.index.str.split(\".\").str[0]\n",
    "res['Symbol'] = res[\"ensembl_gene_id\"].map(mapper.mapper) \n",
    "res.head()"
   ]
  },
  {
   "cell_type": "code",
   "execution_count": null,
   "metadata": {},
   "outputs": [],
   "source": [
    "# Let's filter out genes that have a baseMean less than 10\n",
    "res = res[res.baseMean >= 10]\n",
    "res"
   ]
  },
  {
   "cell_type": "code",
   "execution_count": null,
   "metadata": {},
   "outputs": [],
   "source": [
    "# Finally, we can save the results to a csv file using pandas\n",
    "res.to_csv(f\"{path_out}/deseq2_results.csv\")"
   ]
  },
  {
   "cell_type": "markdown",
   "metadata": {},
   "source": [
    "# 4) Some useful visualizations"
   ]
  },
  {
   "cell_type": "markdown",
   "metadata": {},
   "source": [
    "## Volcano plot"
   ]
  },
  {
   "cell_type": "markdown",
   "metadata": {},
   "source": [
    "Volcano plots are a useful way to visualize the results of a differential expression analysis. The x-axis shows the log2 fold change and the y-axis shows the -log10 of the p-value. The points are colored based on whether they are significantly differentially expressed or not."
   ]
  },
  {
   "cell_type": "code",
   "execution_count": null,
   "metadata": {},
   "outputs": [],
   "source": [
    "# Let's do a little bit more manipulation to make the results so we see gene symbols when we plot\n",
    "res[\"Geneid\"] = res.index\n",
    "res = res.set_index(\"Symbol\")"
   ]
  },
  {
   "cell_type": "code",
   "execution_count": null,
   "metadata": {},
   "outputs": [],
   "source": [
    "# Let's use the decoupler package to plot a volcano plot\n",
    "dc.plot_volcano_df(\n",
    "    res,  # The results table\n",
    "    x='log2FoldChange',  # The column with the log2 fold changes will be on the x-axis\n",
    "    y='padj',  # The column with the adjusted p-values will be on the y-axis\n",
    "    top=20,  # The number of top genes to label\n",
    "    figsize=(5, 5),  # The size of the figure\n",
    "    sign_thr=0.05,  # The significance threshold to use for padj\n",
    "    lFCs_thr=1,  # The log2 fold change threshold to use\n",
    ")"
   ]
  },
  {
   "cell_type": "markdown",
   "metadata": {},
   "source": [
    "## Heatmap"
   ]
  },
  {
   "cell_type": "markdown",
   "metadata": {},
   "source": [
    "Heatmaps are another useful way to visualize the expression of genes across samples. They show the genes the significantly differ between samples and can be used to cluster samples based on their expression profiles."
   ]
  },
  {
   "cell_type": "code",
   "execution_count": null,
   "metadata": {},
   "outputs": [],
   "source": [
    "# Let's filter down to the significant genes\n",
    "sigs = res[(res.padj < 0.001) & (abs(res.log2FoldChange) > 2)]\n",
    "sigs"
   ]
  },
  {
   "cell_type": "code",
   "execution_count": null,
   "metadata": {},
   "outputs": [],
   "source": [
    "# Let's manipulate the dds object to only include the significant genes and store log1p transformed counts\n",
    "dds.layers['log1p'] = np.log1p(dds.layers['normed_counts'])\n",
    "dds_sigs = dds[:, sigs.index]\n",
    "dds_sigs"
   ]
  },
  {
   "cell_type": "code",
   "execution_count": null,
   "metadata": {},
   "outputs": [],
   "source": [
    "# Let's create a dataframe with the log1p transformed counts\n",
    "grapher = pd.DataFrame(\n",
    "    dds_sigs.layers['log1p'].T,\n",
    "    index=dds_sigs.var_names, \n",
    "    columns=dds_sigs.obs_names\n",
    ")"
   ]
  },
  {
   "cell_type": "code",
   "execution_count": null,
   "metadata": {},
   "outputs": [],
   "source": [
    "# Finally, let's plot the heatmap (with clustering!)\n",
    "sns.clustermap(grapher, z_score=0, cmap = 'RdYlBu_r')"
   ]
  },
  {
   "cell_type": "markdown",
   "metadata": {},
   "source": [
    "## Principal component analysis (PCA)"
   ]
  },
  {
   "cell_type": "markdown",
   "metadata": {},
   "source": [
    "PCA is a useful way to visualize the variation in the data. It can be used to see if the samples cluster based on their expression profiles. We will use the ScanPy package to perform PCA. ScanPy is a powerful package for single-cell RNA-seq analysis, but it can also be used for bulk RNA-seq analysis."
   ]
  },
  {
   "cell_type": "code",
   "execution_count": null,
   "metadata": {},
   "outputs": [],
   "source": [
    "import scanpy as sc  # load the scanpy package"
   ]
  },
  {
   "cell_type": "code",
   "execution_count": null,
   "metadata": {},
   "outputs": [],
   "source": [
    "# Run PCA on the dds object and plot the results\n",
    "sc.tl.pca(dds)\n",
    "sc.pl.pca(dds, color = 'condition', size = 200)"
   ]
  },
  {
   "cell_type": "markdown",
   "metadata": {},
   "source": [
    "# 5) Some potential exercises"
   ]
  },
  {
   "cell_type": "markdown",
   "metadata": {},
   "source": [
    "1. How many genes are significantly differentially expressed between the two groups? How many are upregulated and how many are downregulated?\n",
    "2. What are the top 10 most upregulated genes? What are the top 10 most downregulated genes? Plot these genes on a heatmap.\n",
    "3. What are the top 10 most variable genes across samples? Do these match the top 10 most differentially expressed genes?"
   ]
  },
  {
   "cell_type": "markdown",
   "metadata": {},
   "source": [
    "# DONE!"
   ]
  },
  {
   "cell_type": "markdown",
   "metadata": {},
   "source": [
    "---"
   ]
  }
 ],
 "metadata": {
  "kernelspec": {
   "display_name": "Python 3.11 R 4.3.1 2024-mstp-bootcamp",
   "language": "python",
   "name": "2024-mstp-bootcamp"
  }
 },
 "nbformat": 4,
 "nbformat_minor": 2
}
