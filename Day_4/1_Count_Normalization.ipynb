{
 "cells": [
  {
   "cell_type": "markdown",
   "metadata": {},
   "source": [
    "# <div align=\"center\"><b>RNA-seq normalizations</b></div>"
   ]
  },
  {
   "cell_type": "markdown",
   "metadata": {},
   "source": [
    "Now that we learned some Python basics, let's apply them to normalizing some RNA-seq data."
   ]
  },
  {
   "cell_type": "code",
   "execution_count": null,
   "metadata": {},
   "outputs": [],
   "source": [
    "# Start by importing useful packages\n",
    "import pandas as pd  # For data manipulation like reading in from files\n",
    "import numpy as np  # For math type stuff\n",
    "import seaborn as sns  # For plotting\n",
    "import matplotlib.pyplot as plt  # For plotting"
   ]
  },
  {
   "cell_type": "code",
   "execution_count": null,
   "metadata": {},
   "outputs": [],
   "source": [
    "# It can also be useful to specify all your paths here so it is clear where things are coming from\n",
    "# TODO: Make sure this matches the path of your counts file\n",
    "#path_counts = \"~/scratch/feature_counts/hangauer.results.counts\""
   ]
  },
  {
   "cell_type": "markdown",
   "metadata": {},
   "source": [
    "# Load data\n",
    "We will start by reading in the file that was output by the featureCounts tool. This file contains the number of reads that were mapped to each gene in the genome across all samples."
   ]
  },
  {
   "cell_type": "code",
   "execution_count": null,
   "metadata": {},
   "outputs": [],
   "source": [
    "# Load counts in using pandas\n",
    "# Check out the pandas documentation for more info on read_csv\n",
    "counts = pd.read_csv(path_counts, comment=\"#\", sep=\"\\t\", index_col=0)\n",
    "gene_info = counts.iloc[:, 0:5]  # \n",
    "counts = counts.iloc[:, 5:]\n",
    "counts.columns = [x.split(\"/\")[-1].split(\".\")[0] for x in counts.columns]\n",
    "counts.head()"
   ]
  },
  {
   "cell_type": "code",
   "execution_count": null,
   "metadata": {},
   "outputs": [],
   "source": [
    "# Let's rename the columns to be a bit more informative\n",
    "counts = counts.rename(\n",
    "    columns=\n",
    "    {\n",
    "        counts.columns[0]:\"Parental1\",\n",
    "        counts.columns[1]:\"Parental2\",\n",
    "        counts.columns[2]:\"Persister1\",\n",
    "        counts.columns[3]:\"Persister2\",\n",
    "        counts.columns[4]:\"Persister3\"\n",
    "    }\n",
    ")\n",
    "counts.head()"
   ]
  },
  {
   "cell_type": "markdown",
   "metadata": {},
   "source": [
    "# Normalize using RPKM"
   ]
  },
  {
   "cell_type": "markdown",
   "metadata": {},
   "source": [
    "We will next normalize the data using the RPKM method. This method normalizes the read counts by the length of the gene and the total number of reads in the sample."
   ]
  },
  {
   "cell_type": "markdown",
   "metadata": {},
   "source": [
    "When you have an operation you want to be able to apply multiple times, it is a good idea to write a function. Let's write a Python function that takes in the read counts and gene lengths and returns the RPKM values."
   ]
  },
  {
   "cell_type": "code",
   "execution_count": null,
   "metadata": {},
   "outputs": [],
   "source": [
    "def normalize_rpkm(counts_matrix, gene_lengths):\n",
    "    \"\"\"\n",
    "    Normalize an RNA-seq counts matrix using Reads Per Kilobase of transcript per Million mapped reads (RPKM).\n",
    "    \n",
    "    RPKM (Reads Per Kilobase of transcript per Million mapped reads) and FPKM (Fragments Per Kilobase \n",
    "    of transcript per Million mapped reads) normalize for both the length of the gene and the total \n",
    "    number of reads (i.e., the library size), making expression level comparisons between genes \n",
    "    in the same sample possible.\n",
    "    \n",
    "    Pros:\n",
    "    - Widely used and established/incorporated in several software tools.\n",
    "    - Makes it possible to compare gene expression levels within the same sample and between different samples.\n",
    "    \n",
    "    Cons:\n",
    "    - Assumes that the total number of reads is the same across all samples, which isn't always accurate, \n",
    "      particularly when comparing different conditions or tissues.\n",
    "    - Can be biased by highly expressed genes or transcripts, making it less reliable for datasets \n",
    "      with a high level of expression variation.\n",
    "    - Like TPM, it cannot be used for differential expression analysis.\n",
    "    \n",
    "    Parameters:\n",
    "    counts_matrix (pd.DataFrame): A pandas DataFrame containing raw read counts \n",
    "                                  with rows as genes and columns as samples.\n",
    "    gene_lengths (pd.Series): A pandas Series containing the lengths of genes in kilobases.\n",
    "                              The index should match the row index of the counts_matrix.\n",
    "    \n",
    "    Returns:\n",
    "    pd.DataFrame: A pandas DataFrame with RPKM-normalized expression values.\n",
    "    \"\"\"\n",
    "    \n",
    "    # Divide by both gene length and total counts, then multiply by 1e9 to get RPKM\n",
    "    total_reads_per_sample = counts_matrix.sum(axis=0)\n",
    "    rpm_matrix = counts_matrix.div(total_reads_per_sample, axis=1) * 1e6\n",
    "    rpkm_matrix = rpm_matrix.div(gene_lengths, axis=0) * 1e3\n",
    "    \n",
    "    # The above calculation is equivalent to the following:\n",
    "    #rpkm_matrix = counts_matrix.div(gene_lengths, axis=0).div(counts_matrix.sum(axis=0), axis=1) * 1e9\n",
    "    \n",
    "    return rpkm_matrix"
   ]
  },
  {
   "cell_type": "markdown",
   "metadata": {},
   "source": [
    "We can see that the above function has several features:\n",
    " - First is the `def` keyword, which is used to define a function. \n",
    " - Next is the function name, which is `normalize rpkm`. \n",
    " - This is followed by the arguments that the function takes in, which are `read_counts` and `gene_lengths`. \n",
    " - The function then calculates the total number of reads in the sample and the RPKM values for each gene. \n",
    " - Finally, the function returns the RPKM values."
   ]
  },
  {
   "cell_type": "code",
   "execution_count": null,
   "metadata": {},
   "outputs": [],
   "source": [
    "# Get gene lengths by slicing the columns of the gene_info DataFrame\n",
    "gene_lengths = gene_info[\"Length\"]\n",
    "gene_lengths.head()"
   ]
  },
  {
   "cell_type": "code",
   "execution_count": null,
   "metadata": {},
   "outputs": [],
   "source": [
    "# Normalize counts using our function\n",
    "rpkm = normalize_rpkm(counts, gene_lengths)\n",
    "rpkm.head()"
   ]
  },
  {
   "cell_type": "markdown",
   "metadata": {},
   "source": [
    "# Data visualization\n",
    "It can be useful to get a sense of what the data looks like after normalization. We can use the `matplotlib` and `seaborn` libraries to generate some useful plots."
   ]
  },
  {
   "cell_type": "code",
   "execution_count": null,
   "metadata": {},
   "outputs": [],
   "source": [
    "# Let's look at a histogram of the rpkm values for each sample.\n",
    "sns.set_style(\"whitegrid\")\n",
    "for i in rpkm.columns:\n",
    "    plt.figure(figsize=(20,4))\n",
    "    plt.hist(rpkm[i], bins=100)\n",
    "    plt.xlabel(\"RPKM\")\n",
    "    plt.ylabel(\"count\")\n",
    "    plt.title(i)"
   ]
  },
  {
   "cell_type": "markdown",
   "metadata": {},
   "source": [
    "Just using RPKM is not very informative because most of our genes are not expressed in each sample. We will remedy this by first removing genes that are very lowly expressed across all samples."
   ]
  },
  {
   "cell_type": "code",
   "execution_count": null,
   "metadata": {},
   "outputs": [],
   "source": [
    "# To get rid of a lot of noise, we are going to drop rows that have RPKM less than 4\n",
    "rpkm_filtered = rpkm.loc[rpkm.sum(axis=1) > 4]\n",
    "print(rpkm_filtered.shape)\n",
    "rpkm_filtered.head()"
   ]
  },
  {
   "cell_type": "code",
   "execution_count": null,
   "metadata": {},
   "outputs": [],
   "source": [
    "# Let's look at a histogram of the rpkm_filtered values for each sample.\n",
    "sns.set_style(\"whitegrid\")\n",
    "for i in rpkm_filtered.columns:\n",
    "    plt.figure(figsize=(20,4))\n",
    "    plt.hist(rpkm_filtered[i], bins=100)\n",
    "    plt.xlabel(\"rpkm_filtered\")\n",
    "    plt.ylabel(\"count\")\n",
    "    plt.title(i)"
   ]
  },
  {
   "cell_type": "markdown",
   "metadata": {},
   "source": [
    "Hmm, we still only see a single bar. This is because we have a few genes that are very highly expressed, with most genes being lowly expressed. We can remedy this by taking the log of the RPKM values."
   ]
  },
  {
   "cell_type": "code",
   "execution_count": null,
   "metadata": {},
   "outputs": [],
   "source": [
    "# Now let's take the log2RPKM. We will include a pseudocount to prevent inf values (i.e. log 0 == -inf /or undefined..)\n",
    "rpkm_filtered +=1\n",
    "rpkm_log2 = np.log2(rpkm_filtered)\n",
    "print(rpkm_log2.shape)\n",
    "rpkm_log2.head()"
   ]
  },
  {
   "cell_type": "code",
   "execution_count": null,
   "metadata": {},
   "outputs": [],
   "source": [
    "sns.set_style(\"whitegrid\")\n",
    "for i in rpkm_log2.columns:\n",
    "    plt.figure(figsize=(20,4))\n",
    "    plt.hist(rpkm_log2[i], bins=100)\n",
    "    plt.xlabel(\"log2 RPKM\")\n",
    "    plt.ylabel(\"count\")\n",
    "    plt.title(i)"
   ]
  },
  {
   "cell_type": "markdown",
   "metadata": {},
   "source": [
    "We can see that the the distributions of gene expression values are very similar across samples. This is a good sign that our normalization is working well! Now we just need to hope that we can detect differences in individual genes between samples!"
   ]
  },
  {
   "cell_type": "markdown",
   "metadata": {},
   "source": [
    "# Clustering"
   ]
  },
  {
   "cell_type": "markdown",
   "metadata": {},
   "source": [
    "A quick way to check for differences between samples is to cluster the samples based on the gene expression values. We can use the `seaborn` library to both perform the clustering and visualize the results in one function!"
   ]
  },
  {
   "cell_type": "code",
   "execution_count": null,
   "metadata": {},
   "outputs": [],
   "source": [
    "sns.clustermap(rpkm.corr(method='spearman'), figsize = (19,19))"
   ]
  },
  {
   "cell_type": "code",
   "execution_count": null,
   "metadata": {},
   "outputs": [],
   "source": [
    "sns.clustermap(rpkm_filtered.corr(method='spearman'),vmin=-1,vmax=1, figsize = (19,19))"
   ]
  },
  {
   "cell_type": "markdown",
   "metadata": {},
   "source": [
    "We can see that our parental cells form a different cluster from our persister cells. This is what we expected and is a good sign that we should be able to detect differences in gene expression between the two groups!"
   ]
  },
  {
   "cell_type": "markdown",
   "metadata": {},
   "source": [
    "# DONE!"
   ]
  },
  {
   "cell_type": "markdown",
   "metadata": {},
   "source": [
    "---"
   ]
  }
 ],
 "metadata": {
  "kernelspec": {
   "display_name": "Python 3.7 get_data",
   "language": "python",
   "name": "get_data"
  },
  "language_info": {
   "codemirror_mode": {
    "name": "ipython",
    "version": 3
   },
   "file_extension": ".py",
   "mimetype": "text/x-python",
   "name": "python",
   "nbconvert_exporter": "python",
   "pygments_lexer": "ipython3",
   "version": "3.7.12"
  }
 },
 "nbformat": 4,
 "nbformat_minor": 2
}
