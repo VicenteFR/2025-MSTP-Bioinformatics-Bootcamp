{
 "cells": [
  {
   "cell_type": "markdown",
   "metadata": {},
   "source": [
    "# <div align=\"center\"><b>Pathway enrichment analysis with DecoupleR-py</b></div>"
   ]
  },
  {
   "cell_type": "markdown",
   "metadata": {},
   "source": [
    "The last thing we will do in bootcamp (😢) is to perform pathway enrichment analysis using the DecoupleR-py package. This package is incredibly useful for summarizing the results of a differential expression analysis and identifying the biological pathways that are most affected by the changes in gene expression.\n",
    "\n",
    "This notebook is based on the decoupleR-py tutorial found here: https://decoupler-py.readthedocs.io/en/latest/notebooks/bulk.html"
   ]
  },
  {
   "cell_type": "code",
   "execution_count": null,
   "metadata": {},
   "outputs": [],
   "source": [
    "# As usual we will start by importing useful packages\n",
    "import numpy as np\n",
    "import pandas as pd\n",
    "import seaborn as sns\n",
    "\n",
    "#\n",
    "import scanpy as sc\n",
    "import decoupler as dc\n",
    "from anndata import AnnData"
   ]
  },
  {
   "cell_type": "markdown",
   "metadata": {},
   "source": [
    "# 1) Load data"
   ]
  },
  {
   "cell_type": "code",
   "execution_count": null,
   "metadata": {},
   "outputs": [],
   "source": [
    "# It can also be useful to specify all your paths here so it is clear where things are coming from\n",
    "# TODO: Make sure this matches the path of your counts file\n",
    "path_deseq2 = \"scratch/differential_analysis/deseq2_results.csv\"\n",
    "path_out = '~/scratch/pathway_analysis/'"
   ]
  },
  {
   "cell_type": "code",
   "execution_count": null,
   "metadata": {},
   "outputs": [],
   "source": [
    "# Load the deseq2 results using pandas\n",
    "res = pd.read_csv(path_deseq2, index_col=0)  # note that this is actually a csv file because we saved it as such!\n",
    "res.head()"
   ]
  },
  {
   "cell_type": "code",
   "execution_count": null,
   "metadata": {},
   "outputs": [],
   "source": [
    "# As a sanity check, let's look at the volcano plot again to make sure it matches the last notebook\n",
    "dc.plot_volcano_df(\n",
    "    res,\n",
    "    x='log2FoldChange',\n",
    "    y='padj',\n",
    "    top=20,\n",
    "    figsize=(5, 5),\n",
    "    sign_thr=0.05,\n",
    "    lFCs_thr=1,\n",
    ")"
   ]
  },
  {
   "cell_type": "code",
   "execution_count": null,
   "metadata": {},
   "outputs": [],
   "source": [
    "# We again need to clean up clean up the dataframew to use symbols as the index to match the decoupler database\n",
    "res.set_index(\"Symbol\", inplace=True)\n",
    "res = res[~res.index.isna()]\n",
    "res = res[~res.index.duplicated()]\n",
    "mat = res[['stat']].T.rename(index={'stat': 'Persister.vs.Parental'})\n",
    "mat"
   ]
  },
  {
   "cell_type": "markdown",
   "metadata": {},
   "source": [
    "# 2) Look for enrichment of PROGENy pathways"
   ]
  },
  {
   "cell_type": "markdown",
   "metadata": {},
   "source": [
    "PROGENy is a comprehensive resource containing a curated collection of pathways and their target genes, with weights for each interaction. For this example we will use the human weights (other organisms are available) and we will use the top 500 responsive genes ranked by p-value. Here is a brief description of each pathway:\n",
    "\n",
    "Androgen: involved in the growth and development of the male reproductive organs.\n",
    "\n",
    "EGFR: regulates growth, survival, migration, apoptosis, proliferation, and differentiation in mammalian cells\n",
    "\n",
    "Estrogen: promotes the growth and development of the female reproductive organs.\n",
    "\n",
    "Hypoxia: promotes angiogenesis and metabolic reprogramming when O2 levels are low.\n",
    "\n",
    "JAK-STAT: involved in immunity, cell division, cell death, and tumor formation.\n",
    "\n",
    "MAPK: integrates external signals and promotes cell growth and proliferation.\n",
    "\n",
    "NFkB: regulates immune response, cytokine production and cell survival.\n",
    "\n",
    "p53: regulates cell cycle, apoptosis, DNA repair and tumor suppression.\n",
    "\n",
    "PI3K: promotes growth and proliferation.\n",
    "\n",
    "TGFb: involved in development, homeostasis, and repair of most tissues.\n",
    "\n",
    "TNFa: mediates haematopoiesis, immune surveillance, tumour regression and protection from infection.\n",
    "\n",
    "Trail: induces apoptosis.\n",
    "\n",
    "VEGF: mediates angiogenesis, vascular permeability, and cell migration.\n",
    "\n",
    "WNT: regulates organ morphogenesis during development and tissue repair."
   ]
  },
  {
   "cell_type": "code",
   "execution_count": null,
   "metadata": {},
   "outputs": [],
   "source": [
    "# Retrieve PROGENy model weights\n",
    "progeny = dc.get_progeny(top=500)\n",
    "progeny"
   ]
  },
  {
   "cell_type": "code",
   "execution_count": null,
   "metadata": {},
   "outputs": [],
   "source": [
    "# Infer pathway activities with mlm\n",
    "pathway_acts, pathway_pvals = dc.run_mlm(mat=mat, net=progeny, verbose=True)\n",
    "pathway_acts"
   ]
  },
  {
   "cell_type": "code",
   "execution_count": null,
   "metadata": {},
   "outputs": [],
   "source": [
    "# We can now plot the pathway activity scores as a barplot\n",
    "dc.plot_barplot(\n",
    "    pathway_acts,\n",
    "    'Persister.vs.Parental',\n",
    "    top=25,\n",
    "    vertical=False,\n",
    "    figsize=(6, 3)\n",
    ")"
   ]
  },
  {
   "cell_type": "code",
   "execution_count": null,
   "metadata": {},
   "outputs": [],
   "source": [
    "# We can even look at the specific genes in a pathway and what their weights are\n",
    "dc.plot_targets(res, stat='stat', source_name='p53', net=progeny, top=15)"
   ]
  },
  {
   "cell_type": "markdown",
   "metadata": {},
   "source": [
    "# Functional enrichment of biological terms in MSigDB"
   ]
  },
  {
   "cell_type": "markdown",
   "metadata": {},
   "source": [
    "The Molecular Signatures Database (MSigDB) is a resource containing a collection of gene sets annotated to different biological processes. This will likely be discussed in more detail on the final day of bootcamp, but for now we will use the MSigDB gene sets to perform functional enrichment analysis."
   ]
  },
  {
   "cell_type": "code",
   "execution_count": null,
   "metadata": {},
   "outputs": [],
   "source": [
    "# Grab the MSigDB database using the decoupler package\n",
    "msigdb = dc.get_resource('MSigDB')\n",
    "msigdb"
   ]
  },
  {
   "cell_type": "markdown",
   "metadata": {},
   "source": [
    "Not every geneset in msigdb is useful for every analysis, so we will use the gene sets that are most relevant to our data. For this example we will use hallmark genesets"
   ]
  },
  {
   "cell_type": "code",
   "execution_count": null,
   "metadata": {},
   "outputs": [],
   "source": [
    "# Filter by hallmark\n",
    "msigdb = msigdb[msigdb['collection']=='hallmark']\n",
    "\n",
    "# Remove duplicated entries\n",
    "msigdb = msigdb[~msigdb.duplicated(['geneset', 'genesymbol'])]\n",
    "\n",
    "# Rename\n",
    "msigdb.loc[:, 'geneset'] = [name.split('HALLMARK_')[1] for name in msigdb['geneset']]\n",
    "\n",
    "msigdb"
   ]
  },
  {
   "cell_type": "code",
   "execution_count": null,
   "metadata": {},
   "outputs": [],
   "source": [
    "# We use only significant differentially expressed genes for the analysis\n",
    "top_genes = res[res['padj'] < 0.05]"
   ]
  },
  {
   "cell_type": "code",
   "execution_count": null,
   "metadata": {},
   "outputs": [],
   "source": [
    "# Run functional enrichment analysis with ORA\n",
    "enr_pvals = dc.get_ora_df(\n",
    "    df=top_genes,\n",
    "    net=msigdb,\n",
    "    source='geneset',\n",
    "    target='genesymbol'\n",
    ")\n",
    "enr_pvals.head()"
   ]
  },
  {
   "cell_type": "code",
   "execution_count": null,
   "metadata": {},
   "outputs": [],
   "source": [
    "# Plot a dotplot of the top 15 enriched pathways\n",
    "dc.plot_dotplot(\n",
    "    enr_pvals.sort_values('Combined score', ascending=False).head(15),\n",
    "    x='Combined score',\n",
    "    y='Term',\n",
    "    s='Odds ratio',\n",
    "    c='FDR p-value',\n",
    "    scale=1.5,\n",
    "    figsize=(3, 6)\n",
    ")"
   ]
  },
  {
   "cell_type": "markdown",
   "metadata": {},
   "source": [
    "Note that the above dotplot tells us that a pathway is enriched but does not tell us if it is up or downregulated. To get a better view of this, we can plot something called a running score:"
   ]
  },
  {
   "cell_type": "code",
   "execution_count": null,
   "metadata": {},
   "outputs": [],
   "source": [
    "# Plot running score for E2F_TARGETS\n",
    "dc.plot_running_score(\n",
    "    df=res,\n",
    "    stat='stat',\n",
    "    net=msigdb,\n",
    "    source='geneset',\n",
    "    target='genesymbol',\n",
    "    set_name='E2F_TARGETS'\n",
    ")"
   ]
  },
  {
   "cell_type": "code",
   "execution_count": null,
   "metadata": {},
   "outputs": [],
   "source": [
    "# Try to find one with a positive score\n",
    "dc.plot_running_score(\n",
    "    df=res,\n",
    "    stat='stat',\n",
    "    net=msigdb,\n",
    "    source='geneset',\n",
    "    target='genesymbol',\n",
    "    set_name='E2F_TARGETS'\n",
    ")"
   ]
  },
  {
   "cell_type": "markdown",
   "metadata": {},
   "source": [
    "# 5) Some potential exercises"
   ]
  },
  {
   "cell_type": "markdown",
   "metadata": {},
   "source": [
    "1. What pathways are enriched in only the upregulated genes? In only the downregulated genes?\n",
    "2. Try different gene sets other than hallmark. What are the differences? Do you notice any trends?\n"
   ]
  },
  {
   "cell_type": "markdown",
   "metadata": {},
   "source": [
    "# DONE!"
   ]
  },
  {
   "cell_type": "markdown",
   "metadata": {},
   "source": [
    "---"
   ]
  }
 ],
 "metadata": {
  "kernelspec": {
   "display_name": "Python 3.11 R 4.3.1 2024-mstp-bootcamp",
   "language": "python",
   "name": "2024-mstp-bootcamp"
  },
  "language_info": {
   "codemirror_mode": {
    "name": "ipython",
    "version": 3
   },
   "file_extension": ".py",
   "mimetype": "text/x-python",
   "name": "python",
   "nbconvert_exporter": "python",
   "pygments_lexer": "ipython3",
   "version": "3.11.9"
  }
 },
 "nbformat": 4,
 "nbformat_minor": 2
}
