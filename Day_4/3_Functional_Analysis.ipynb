{
 "cells": [
  {
   "cell_type": "markdown",
   "metadata": {},
   "source": [
    "# <div align=\"center\"><b>Pathway enrichment analysis with DecoupleR-py</b></div>"
   ]
  },
  {
   "cell_type": "markdown",
   "metadata": {},
   "source": [
    "The last thing we will do in bootcamp (😢) is to perform pathway enrichment analysis using the DecoupleR-py package. This package is incredibly useful for summarizing the results of a differential expression analysis and identifying the biological pathways that are most affected by the changes in gene expression.\n",
    "\n",
    "This notebook is based on the decoupleR-py tutorial for bulk RNA-seq data found [here](https://decoupler.readthedocs.io/en/latest/notebooks/bulk/rna.html)."
   ]
  },
  {
   "cell_type": "markdown",
   "metadata": {},
   "source": [
    "# 0) Packages"
   ]
  },
  {
   "cell_type": "code",
   "execution_count": null,
   "metadata": {},
   "outputs": [],
   "source": [
    "# As usual we will start by importing useful packages\n",
    "import numpy as np\n",
    "import pandas as pd\n",
    "import seaborn as sns\n",
    "import matplotlib.pyplot as plt\n",
    "import scanpy as sc\n",
    "import decoupler as dc\n",
    "from anndata import AnnData"
   ]
  },
  {
   "cell_type": "markdown",
   "metadata": {},
   "source": [
    "# 1) Load and preprocess data"
   ]
  },
  {
   "cell_type": "code",
   "execution_count": null,
   "metadata": {},
   "outputs": [],
   "source": [
    "# It can also be useful to specify all your paths here so it is clear where things are coming from\n",
    "# TODO: Make sure this matches the path of your counts file\n",
    "path_deseq2 = \"~/scratch/differential_analysis/deseq2_results.csv\"\n",
    "path_out = '~/scratch/pathway_analysis/'"
   ]
  },
  {
   "cell_type": "code",
   "execution_count": null,
   "metadata": {},
   "outputs": [],
   "source": [
    "# Load the deseq2 results using pandas\n",
    "res = pd.read_csv(path_deseq2, index_col=0)  # note that this is actually a csv file because we saved it as such!\n",
    "res.head()"
   ]
  },
  {
   "cell_type": "code",
   "execution_count": null,
   "metadata": {},
   "outputs": [],
   "source": [
    "# We again need to clean up clean up the dataframew to use symbols as the index to match the decoupler database\n",
    "res.set_index(\"Symbol\", inplace=True)\n",
    "res = res[~res.index.isna()]\n",
    "res = res[~res.index.duplicated()]\n",
    "mat = res[['stat']].T.rename(index={'stat': 'Persister.vs.Parental'})\n",
    "mat"
   ]
  },
  {
   "cell_type": "code",
   "execution_count": null,
   "metadata": {},
   "outputs": [],
   "source": [
    "# As a sanity check, let's look at the volcano plot showing specific hits again to make sure it matches the last notebook\n",
    "\n",
    "# Plot the volcano without labeling\n",
    "fig, ax = plt.subplots()\n",
    "dc.pl.volcano(\n",
    "    res,  # The results table\n",
    "    x='log2FoldChange',  # The column with the log2 fold changes will be on the x-axis\n",
    "    y='padj',  # The column with the adjusted p-values will be on the y-axis\n",
    "    top=1,  # The number of top genes to label\n",
    "    figsize=(5, 5),  # The size of the figure\n",
    "    thr_sign=0.05,  # The significance threshold to use for padj\n",
    "    thr_stat=0.5,  # The log2 fold change threshold to use\n",
    "    ax=ax,\n",
    "    return_fig=True\n",
    ")\n",
    "\n",
    "# Remove the automatically labeled gene\n",
    "if ax.texts:\n",
    "    ax.texts[-1].remove()\n",
    "\n",
    "# # Define our genes to highlight, in this case the hit discussed in the paper.\n",
    "genes_of_interest = [\n",
    "    \"PROM1\", \"CD44\", # PROM1 encodes CD133\n",
    "    \"GPX4\"\n",
    "]\n",
    "\n",
    "# Annotate manually\n",
    "for gene in genes_of_interest:\n",
    "    if gene in res.index:\n",
    "        logfc = res.at[gene, \"log2FoldChange\"]\n",
    "        padj = -np.log10(res.at[gene, \"padj\"])\n",
    "        ax.scatter(logfc, padj, color=\"black\")\n",
    "        ax.text(logfc, padj, gene, fontsize=8)\n",
    "\n",
    "plt.show()"
   ]
  },
  {
   "cell_type": "markdown",
   "metadata": {},
   "source": [
    "# 2) Definition of enrichment analysis\n",
    "Enrichment analysis tests whether a specific set of omics features is “overrepresented” or “coordinated” in the measured data compared to a background distribution. These sets are predefined based on existing biological knowledge and may vary depending on the omics technology used.\n",
    "\n",
    "Enrichment analysis requires the use of an enrichment method, and several options are available. In the original manuscript of decoupler [BiMVSB+22], we benchmarked multiple methods and found that the univariate linear model (ulm) outperformed the others.\n",
    "\n",
    "The scores from decoupler.mt.ulm should be interpreted such that larger magnitudes indicate greater significance, while the sign reflects whether the features in the set are overrepresented (positive) or underrepresented (negative) compared to the background."
   ]
  },
  {
   "cell_type": "markdown",
   "metadata": {},
   "source": [
    "# 3) Look for enrichment of PROGENy pathways"
   ]
  },
  {
   "cell_type": "markdown",
   "metadata": {},
   "source": [
    "**PROGENy** is a comprehensive resource containing a curated *collection of pathways* and their target genes, with weights for each interaction. For this example we will use the human weights (other organisms are available) and we will use the top 500 responsive genes ranked by p-value. Here is a brief description of each pathway:\n",
    "\n",
    "**Androgen**: involved in the growth and development of the male reproductive organs.\n",
    "\n",
    "**EGFR**: regulates growth, survival, migration, apoptosis, proliferation, and differentiation in mammalian cells\n",
    "\n",
    "**Estrogen**: promotes the growth and development of the female reproductive organs.\n",
    "\n",
    "**Hypoxia**: promotes angiogenesis and metabolic reprogramming when O2 levels are low.\n",
    "\n",
    "**JAK-STAT**: involved in immunity, cell division, cell death, and tumor formation.\n",
    "\n",
    "**MAPK**: integrates external signals and promotes cell growth and proliferation.\n",
    "\n",
    "**NFkB**: regulates immune response, cytokine production and cell survival.\n",
    "\n",
    "**p53**: regulates cell cycle, apoptosis, DNA repair and tumor suppression.\n",
    "\n",
    "**PI3K**: promotes growth and proliferation.\n",
    "\n",
    "**TGFb**: involved in development, homeostasis, and repair of most tissues.\n",
    "\n",
    "**TNFa**: mediates haematopoiesis, immune surveillance, tumour regression and protection from infection.\n",
    "\n",
    "**Trail**: induces apoptosis.\n",
    "\n",
    "**VEGF**: mediates angiogenesis, vascular permeability, and cell migration.\n",
    "\n",
    "**WNT**: regulates organ morphogenesis during development and tissue repair."
   ]
  },
  {
   "cell_type": "code",
   "execution_count": null,
   "metadata": {},
   "outputs": [],
   "source": [
    "# Retrieve PROGENy model weights\n",
    "progeny = dc.op.progeny(top=500)\n",
    "progeny"
   ]
  },
  {
   "cell_type": "code",
   "execution_count": null,
   "metadata": {},
   "outputs": [],
   "source": [
    "# Explore unique list of pathways.\n",
    "progeny['source'].unique()"
   ]
  },
  {
   "cell_type": "code",
   "execution_count": null,
   "metadata": {},
   "outputs": [],
   "source": [
    "# Infer pathway activities with mlm\n",
    "pathway_acts, pathway_pvals = dc.mt.mlm(\n",
    "    data=mat,\n",
    "    net=progeny,\n",
    "    verbose=True\n",
    ")\n",
    "pathway_acts"
   ]
  },
  {
   "cell_type": "code",
   "execution_count": null,
   "metadata": {},
   "outputs": [],
   "source": [
    "# We can now plot the pathway activity scores as a barplot\n",
    "dc.pl.barplot(\n",
    "    pathway_acts,\n",
    "    'Persister.vs.Parental',\n",
    "    top=25,\n",
    "    vertical=False,\n",
    "    figsize=(6, 3)\n",
    ")"
   ]
  },
  {
   "cell_type": "code",
   "execution_count": null,
   "metadata": {},
   "outputs": [],
   "source": [
    "# We can even look at the specific genes in a pathway and what their weights are\n",
    "dc.pl.source_targets(\n",
    "    data=res,\n",
    "    x='weight', y='stat',\n",
    "    net=progeny,\n",
    "    name='p53',\n",
    "    top=15,\n",
    "    max_x=20, # Note that we set a threshold to the gene network weight (x-axis) to combat outlier on the negative side. Try running the function again after commenting this line and see what happens.\n",
    "    figsize=(6, 6)\n",
    ")"
   ]
  },
  {
   "cell_type": "markdown",
   "metadata": {},
   "source": [
    "# 4) Functional enrichment of biological terms in MSigDB"
   ]
  },
  {
   "cell_type": "markdown",
   "metadata": {},
   "source": [
    "The Molecular Signatures Database (MSigDB) is a resource containing a collection of gene sets annotated to different biological processes. This will likely be discussed in more detail on the final day of bootcamp, but for now we will use the MSigDB gene sets to perform functional enrichment analysis."
   ]
  },
  {
   "cell_type": "code",
   "execution_count": null,
   "metadata": {},
   "outputs": [],
   "source": [
    "hallmark = dc.op.hallmark(organism=\"human\")"
   ]
  },
  {
   "cell_type": "code",
   "execution_count": null,
   "metadata": {},
   "outputs": [],
   "source": [
    "# Grab the MSigDB database using the decoupler package\n",
    "msigdb = dc.op.resource('MSigDB')\n",
    "msigdb"
   ]
  },
  {
   "cell_type": "markdown",
   "metadata": {},
   "source": [
    "Not every geneset in msigdb is useful for every analysis, so we will use the gene sets that are most relevant to our data. For this example we will use hallmark genesets"
   ]
  },
  {
   "cell_type": "code",
   "execution_count": null,
   "metadata": {},
   "outputs": [],
   "source": [
    "# Filter by hallmark\n",
    "msigdb = msigdb[msigdb['collection']=='hallmark']\n",
    "\n",
    "# Remove duplicated entries\n",
    "msigdb = msigdb[~msigdb.duplicated(['geneset', 'genesymbol'])]\n",
    "\n",
    "# Rename\n",
    "msigdb.loc[:, 'geneset'] = [name.split('HALLMARK_')[1] for name in msigdb['geneset']]\n",
    "\n",
    "msigdb"
   ]
  },
  {
   "cell_type": "code",
   "execution_count": null,
   "metadata": {},
   "outputs": [],
   "source": [
    "# We use only significant differentially expressed genes for the analysis\n",
    "top_genes = res[res['padj'] < 0.05]\n",
    "top_genes = mat.loc[:, top_genes.index.array] # Expected input format"
   ]
  },
  {
   "cell_type": "code",
   "execution_count": null,
   "metadata": {},
   "outputs": [],
   "source": [
    "# Run pathway scores with ulm.\n",
    "hm_acts, hm_padj = dc.mt.ulm(data=top_genes, net=hallmark)\n",
    "\n",
    "# Filter by sign padj\n",
    "msk = (hm_padj.T < 0.05).iloc[:, 0]\n",
    "hm_acts = hm_acts.loc[:, msk]\n",
    "\n",
    "hm_acts"
   ]
  },
  {
   "cell_type": "code",
   "execution_count": null,
   "metadata": {},
   "outputs": [],
   "source": [
    "# Tranform to df\n",
    "df = hm_acts.melt(value_name=\"score\").merge(\n",
    "    hm_padj.melt(value_name=\"pvalue\")\n",
    "    .assign(padj=lambda x: x[\"pvalue\"].clip(2.22e-16, 1))\n",
    "    .assign(padj=lambda x: (-np.log10(x[\"pvalue\"])).clip(0, 10))\n",
    ")"
   ]
  },
  {
   "cell_type": "code",
   "execution_count": null,
   "metadata": {},
   "outputs": [],
   "source": [
    "dc.pl.dotplot(\n",
    "    df=df,\n",
    "    x=\"score\", y=\"variable\",\n",
    "    s=\"padj\",\n",
    "    c=\"score\",\n",
    "    # vcenter=0, # Didn't work. :(\n",
    "    top=30, scale=0.3,\n",
    "    # dot_max=0.5,\n",
    "    figsize=(10, 6)\n",
    ")"
   ]
  },
  {
   "cell_type": "markdown",
   "metadata": {},
   "source": [
    "Note that the above dotplot tells us that a pathway is enriched but does not tell us if it is up or downregulated. To get a better view of this, we can plot something called a running score:"
   ]
  },
  {
   "cell_type": "code",
   "execution_count": null,
   "metadata": {},
   "outputs": [],
   "source": [
    "# Plot running score for the epithelial-mesenchymal transition pathway (discussed in the paper).\n",
    "# Can you confirm whether the expected type of enrichment (either upregulation or downregulation) can be observed?\n",
    "dc.pl.leading_edge(\n",
    "    df=res,\n",
    "    stat='stat',\n",
    "    net=hallmark,\n",
    "    name='EPITHELIAL_MESENCHYMAL_TRANSITION'\n",
    ")"
   ]
  },
  {
   "cell_type": "code",
   "execution_count": null,
   "metadata": {},
   "outputs": [],
   "source": [
    "# Plot running score for E2F_TARGETS. Note that it's the pathway with the greatest significance (in terms of P-value)!\n",
    "dc.pl.leading_edge(\n",
    "    df=res,\n",
    "    stat='stat',\n",
    "    net=hallmark,\n",
    "    name='E2F_TARGETS'\n",
    ")"
   ]
  },
  {
   "cell_type": "markdown",
   "metadata": {},
   "source": [
    "# 5) Some potential exercises"
   ]
  },
  {
   "cell_type": "markdown",
   "metadata": {},
   "source": [
    "1. What pathways are enriched in only the upregulated genes? In only the downregulated genes?\n",
    "2. Try different gene sets other than hallmark. What are the differences? Do you notice any trends?\n"
   ]
  },
  {
   "cell_type": "markdown",
   "metadata": {},
   "source": [
    "# DONE!"
   ]
  },
  {
   "cell_type": "markdown",
   "metadata": {},
   "source": [
    "---"
   ]
  }
 ],
 "metadata": {
  "kernelspec": {
   "display_name": "Python 3.11 R 4.3.1 2025-mstp-bootcamp",
   "language": "python",
   "name": "2025-mstp-bootcamp"
  },
  "language_info": {
   "codemirror_mode": {
    "name": "ipython",
    "version": 3
   },
   "file_extension": ".py",
   "mimetype": "text/x-python",
   "name": "python",
   "nbconvert_exporter": "python",
   "pygments_lexer": "ipython3",
   "version": "3.11.13"
  }
 },
 "nbformat": 4,
 "nbformat_minor": 4
}
