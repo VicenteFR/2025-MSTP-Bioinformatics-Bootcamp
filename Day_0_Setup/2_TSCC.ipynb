{
 "cells": [
  {
   "cell_type": "markdown",
   "metadata": {
    "vscode": {
     "languageId": "plaintext"
    }
   },
   "source": [
    "<div style=\"border: 2px dashed #6c757d; padding: 10px; border-radius: 10px; background-color: #f8f9fa; text-align: left; margin-bottom: 20px;\">\n",
    "  <p style=\"font-size: 18px; color: #343a40; font-family: 'Courier New', Courier, monospace;\">\n",
    "    <strong>@author:</strong> Adam Klie\n",
    "  </p>\n",
    "</div>"
   ]
  },
  {
   "cell_type": "markdown",
   "metadata": {},
   "source": [
    "# <div align=\"center\"><b>Logging into the Triton Shared Computing Cluster (TSCC)</b></div>"
   ]
  },
  {
   "cell_type": "markdown",
   "metadata": {
    "vscode": {
     "languageId": "plaintext"
    }
   },
   "source": [
    "Many bioinformatic analyses involve working with data or algorithms that require more computational resources than are available on a personal computer. In this scenario, it is common to use a high-performance computing (HPC) cluster to run analyses. \n",
    "\n",
    "The [Triton Shared Computing Cluster (TSCC)](https://www.sdsc.edu/support/user_guides/tscc.html) is a popular HPC cluster on campus that is used by many groups. \n",
    "\n",
    "\n",
    "We have set up training accounts for you to use on TSCC. This two step guide will walk you through the steps to log into TSCC and access your training account."
   ]
  },
  {
   "cell_type": "markdown",
   "metadata": {},
   "source": [
    "# 1) Open a terminal"
   ]
  },
  {
   "cell_type": "markdown",
   "metadata": {},
   "source": [
    "- **For Mac users**: `Applications Folder - Utilities - Launch Terminal`\n",
    "- **For Linux users**: `Applications - System tools - Terminal`\n",
    "- **For Windows users**: `Start - Applications - Ubuntu`"
   ]
  },
  {
   "cell_type": "markdown",
   "metadata": {
    "vscode": {
     "languageId": "plaintext"
    }
   },
   "source": [
    "<div style=\"border: 2px solid #4CAF50; padding: 15px; border-radius: 10px; background-color: #e8f5e9;\">\n",
    "  <h2 style=\"color: #388E3C; font-family: Arial, sans-serif;\">\n",
    "    &#128218; Pro Tip: iTerm2 a better terminal emulator (for macOS users)\n",
    "  </h2>\n",
    "  <p style=\"color: #1B5E20; font-family: Arial, sans-serif;\">\n",
    "    I'm not a huge fan of Mac's built in terminal. I prefer iTerm2 . It's not necessary for this course but it's a much better terminal emulator, for both appearance and functionality<br><br>\n",
    "    Install iTerm2 here: <a href=\"https://iterm2.com/\" style=\"color: #1E88E5;\">https://iterm2.com/</a><br><br>\n",
    "    There are many other terminal emulators out there, some of which are may be better than iTerm2. Feel free to explore and find one that you like.\n",
    "  </p>\n",
    "</div>\n"
   ]
  },
  {
   "cell_type": "markdown",
   "metadata": {
    "vscode": {
     "languageId": "plaintext"
    }
   },
   "source": [
    "# 2) Log-in"
   ]
  },
  {
   "cell_type": "markdown",
   "metadata": {
    "vscode": {
     "languageId": "plaintext"
    }
   },
   "source": [
    "In order to log-in to TSCC, you will need to use two-factor authentication via DUO. See [this guide](https://support.ucsd.edu/services?id=kb_article_view&sys_kb_id=dba41d798776d11c947a0fa8cebb3527&sysparm_article=KB0020168) to get this set-up on one of yor devices."
   ]
  },
  {
   "cell_type": "markdown",
   "metadata": {},
   "source": [
    "Once DUO is set-up, use the following command to login to TSCC, replacing `<username>` with your username (e.g. etrain82): \n",
    "```bash\n",
    "ssh <username>@login.tscc.sdsc.edu\n",
    "```"
   ]
  },
  {
   "cell_type": "markdown",
   "metadata": {},
   "source": [
    "You will be prompted to enter your password. This is your UCSD active directory (AD) password that you use to login to most things UCSD."
   ]
  },
  {
   "cell_type": "markdown",
   "metadata": {
    "vscode": {
     "languageId": "plaintext"
    }
   },
   "source": [
    "Two-factor authentication will then prompt you to confirm your login. Follow the instructions to confirm."
   ]
  },
  {
   "cell_type": "markdown",
   "metadata": {},
   "source": [
    "If you successfully log in, you will see something like:\n",
    "```bash\n",
    "[etrain82@login2 ~]$\n",
    "```\n",
    "before your prompt."
   ]
  },
  {
   "cell_type": "markdown",
   "metadata": {
    "vscode": {
     "languageId": "plaintext"
    }
   },
   "source": [
    "To exit TSCC, type `exit` and press enter. Or you can use `CTRL + D` to exit."
   ]
  },
  {
   "cell_type": "markdown",
   "metadata": {
    "vscode": {
     "languageId": "plaintext"
    }
   },
   "source": [
    "<div style=\"border: 2px solid #4CAF50; padding: 15px; border-radius: 10px; background-color: #e8f5e9;\">\n",
    "  <h2 style=\"color: #388E3C; font-family: Arial, sans-serif;\">\n",
    "    &#128218; Pro Tip: creating an SSH configuration for TSCC\n",
    "  </h2>\n",
    "  <p style=\"color: #1B5E20; font-family: Arial, sans-serif;\">\n",
    "    Create a configuration file for logging into TSCC: <a href=\"https://www.sdsc.edu/support/user_guides/tscc.html\" style=\"color: #337ab7;\">https://www.sdsc.edu/support/user_guides/tscc.html</a>.<br>\n",
    "    This will prevent you from having to DUO authenticate every time you log via the same terminal session.\n",
    "  </p>\n",
    "</div>"
   ]
  },
  {
   "cell_type": "markdown",
   "metadata": {
    "vscode": {
     "languageId": "plaintext"
    }
   },
   "source": [
    "### In your local pc open or create this file: `~/.ssh/config`"
   ]
  },
  {
   "cell_type": "markdown",
   "metadata": {
    "vscode": {
     "languageId": "plaintext"
    }
   },
   "source": [
    "Type the following command exactly as it appears below, then press Enter: `vi ~/.ssh/config`"
   ]
  },
  {
   "cell_type": "markdown",
   "metadata": {
    "vscode": {
     "languageId": "plaintext"
    }
   },
   "source": [
    "Copy and paste the following into the terminal. Make sure that the entire thing gets copied and pasted.\n",
    "```bash\n",
    "#TSCC Account  \n",
    "\n",
    "Host tscc\n",
    "\n",
    "HostName login.tscc.sdsc.edu  \n",
    "\n",
    "User etrain82\n",
    "\n",
    "ControlPath ~/.ssh/%r@%h:%p  \n",
    "        ControlMaster auto  \n",
    "        ControlPersist 10  \n",
    "```\n",
    "Make sure to swap out `etrain82` with your username that I provided to you."
   ]
  },
  {
   "cell_type": "markdown",
   "metadata": {},
   "source": [
    "Type `:wq` to save the file and exit."
   ]
  },
  {
   "cell_type": "markdown",
   "metadata": {},
   "source": [
    "# DONE!\n",
    "You can now move onto the next step: [Day_0_Setup/Installations](../Day_0_Setup/Installations.ipynb)"
   ]
  },
  {
   "cell_type": "markdown",
   "metadata": {},
   "source": [
    "---"
   ]
  }
 ],
 "metadata": {
  "kernelspec": {
   "display_name": "Python 3 (ipykernel)",
   "language": "python",
   "name": "python3"
  },
  "language_info": {
   "codemirror_mode": {
    "name": "ipython",
    "version": 3
   },
   "file_extension": ".py",
   "mimetype": "text/x-python",
   "name": "python",
   "nbconvert_exporter": "python",
   "pygments_lexer": "ipython3",
   "version": "3.9.5"
  }
 },
 "nbformat": 4,
 "nbformat_minor": 4
}
