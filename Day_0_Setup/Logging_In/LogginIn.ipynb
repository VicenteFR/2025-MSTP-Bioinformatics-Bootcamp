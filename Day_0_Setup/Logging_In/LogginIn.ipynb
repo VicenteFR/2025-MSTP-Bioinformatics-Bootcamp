{
 "cells": [
  {
   "cell_type": "markdown",
   "metadata": {
    "vscode": {
     "languageId": "plaintext"
    }
   },
   "source": [
    "<div style=\"border: 2px dashed #6c757d; padding: 10px; border-radius: 10px; background-color: #f8f9fa; text-align: left; margin-bottom: 20px;\">\n",
    "  <p style=\"font-size: 18px; color: #343a40; font-family: 'Courier New', Courier, monospace;\">\n",
    "    <strong>@author:</strong> Adam Klie\n",
    "  </p>\n",
    "</div>"
   ]
  },
  {
   "cell_type": "markdown",
   "metadata": {},
   "source": [
    "# This is for all students who will be using a Mac/Linux operating system in class. Please follow the instructions below before day 1 to ensure that you can log into the server."
   ]
  },
  {
   "cell_type": "markdown",
   "metadata": {},
   "source": [
    "# 1) Open a terminal"
   ]
  },
  {
   "cell_type": "markdown",
   "metadata": {},
   "source": [
    "- **For Mac users**: `Applications Folder - Utilities - Launch Terminal`\n",
    "- **For Linux users**: `Applications - System tools - Terminal`"
   ]
  },
  {
   "cell_type": "markdown",
   "metadata": {
    "vscode": {
     "languageId": "plaintext"
    }
   },
   "source": [
    "<div style=\"border: 2px solid #4CAF50; padding: 15px; border-radius: 10px; background-color: #e8f5e9;\">\n",
    "  <h2 style=\"color: #388E3C; font-family: Arial, sans-serif;\">\n",
    "    &#128218; Pro Tip\n",
    "  </h2>\n",
    "  <p style=\"color: #1B5E20; font-family: Arial, sans-serif;\">\n",
    "    *Install iTerm2: <a href=\"https://iterm2.com/\" style=\"color: #1E88E5;\">https://iterm2.com/</a>*<br>\n",
    "    You won't see me use the default Mac terminal in this course. I use iTerm2. It's not necessary for this course, but it's a much better terminal emulator.\n",
    "  </p>\n",
    "</div>\n"
   ]
  },
  {
   "cell_type": "markdown",
   "metadata": {
    "vscode": {
     "languageId": "plaintext"
    }
   },
   "source": [
    "# 2) Log-in"
   ]
  },
  {
   "cell_type": "markdown",
   "metadata": {
    "vscode": {
     "languageId": "plaintext"
    }
   },
   "source": [
    "1. In order to log-in to TSCC, you will need to use two-factor authentication via DUO. See [this guide](https://support.ucsd.edu/services?id=kb_article_view&sys_kb_id=dba41d798776d11c947a0fa8cebb3527&sysparm_article=KB0020168) to get this set-up on one of yor devices.\n",
    "2. Once DUO is set-up, use the following command to login to TSCC, replacing `<username>` with your username (e.g. etrain82): \n",
    "```bash\n",
    "ssh <username>@login.tscc.sdsc.edu\n",
    "```\n",
    "3. You will be prompted to enter your password. This is your UCSD active directory (AD) password that you use to login to most things UCSD.\n",
    "4. Two-factor authentication will then prompt you to confirm your login. Follow the instructions to confirm.\n",
    "5. If you successfully log in, you will see something like:\n",
    "```bash\n",
    "[etrain82@login2 ~]$\n",
    "```\n",
    "before your prompt.\n",
    "6. To exit TSCC, type `exit` and press enter. Or you can use `CTRL + D` to exit."
   ]
  },
  {
   "cell_type": "markdown",
   "metadata": {
    "vscode": {
     "languageId": "plaintext"
    }
   },
   "source": [
    "<div style=\"border: 2px solid #4CAF50; padding: 15px; border-radius: 10px; background-color: #e8f5e9;\">\n",
    "  <h2 style=\"color: #388E3C; font-family: Arial, sans-serif;\">\n",
    "    &#128218; Pro Tip\n",
    "  </h2>\n",
    "  <p style=\"color: #1B5E20; font-family: Arial, sans-serif;\">\n",
    "    Create a configuration file for logging into TSCC: dapted from <a href=\"https://www.sdsc.edu/support/user_guides/tscc.html\" style=\"color: #337ab7;\">https://www.sdsc.edu/support/user_guides/tscc.html</a>. Please see this page for more details.\n",
    "  </p>\n",
    "</div>"
   ]
  },
  {
   "cell_type": "markdown",
   "metadata": {
    "vscode": {
     "languageId": "plaintext"
    }
   },
   "source": [
    "### In your local pc open or create this file: `~/.ssh/config`"
   ]
  },
  {
   "cell_type": "markdown",
   "metadata": {
    "vscode": {
     "languageId": "plaintext"
    }
   },
   "source": [
    "1. Type the following command exactly as it appears below, then press Enter: `vi ~/.ssh/config`\n",
    "2. Copy and paste the following into the terminal. Make sure that the entire thing gets copied and pasted.\n",
    "3. Type `:q` to save the file\n",
    "```bash\n",
    "#TSCC Account  \n",
    "\n",
    "Host tscc\n",
    "\n",
    "HostName login.tscc.sdsc.edu  \n",
    "\n",
    "User etrain82\n",
    "\n",
    "ControlPath ~/.ssh/%r@%h:%p  \n",
    "        ControlMaster auto  \n",
    "        ControlPersist 10  \n",
    "```\n",
    "Make sure to swap out `etrain82` with your username that I provided to you.\n"
   ]
  },
  {
   "cell_type": "markdown",
   "metadata": {},
   "source": [
    "# DONE!"
   ]
  },
  {
   "cell_type": "markdown",
   "metadata": {},
   "source": [
    "---"
   ]
  }
 ],
 "metadata": {
  "kernelspec": {
   "display_name": "Python 3 (ipykernel)",
   "language": "python",
   "name": "python3"
  },
  "language_info": {
   "codemirror_mode": {
    "name": "ipython",
    "version": 3
   },
   "file_extension": ".py",
   "mimetype": "text/x-python",
   "name": "python",
   "nbconvert_exporter": "python",
   "pygments_lexer": "ipython3",
   "version": "3.9.5"
  }
 },
 "nbformat": 4,
 "nbformat_minor": 4
}
