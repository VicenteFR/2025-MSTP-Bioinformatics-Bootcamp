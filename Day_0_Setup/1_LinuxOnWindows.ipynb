{
 "cells": [
  {
   "cell_type": "markdown",
   "metadata": {
    "vscode": {
     "languageId": "plaintext"
    }
   },
   "source": [
    "<div style=\"border: 2px dashed #6c757d; padding: 10px; border-radius: 10px; background-color: #f8f9fa; text-align: left; margin-bottom: 10px;\">\n",
    "  <p style=\"font-size: 18px; color: #343a40; font-family: 'Courier New', Courier, monospace;\">\n",
    "    <strong>@author:</strong> James V. Talwar<br>\n",
    "    <strong>@adapted by:</strong> Adam Klie\n",
    "  </p>\n",
    "</div>\n"
   ]
  },
  {
   "cell_type": "markdown",
   "metadata": {},
   "source": [
    "# <div align=\"center\"><b>Glancing Through the Windows: Setting up a Linux terminal on a Windows machine</b></div>"
   ]
  },
  {
   "cell_type": "markdown",
   "metadata": {
    "vscode": {
     "languageId": "plaintext"
    }
   },
   "source": [
    "If you are working on a machine that runs a Windows operating system, you don't have a built-in Linux terminal. This is the interface to data and programs most commonly used in Bioinformatics. \n",
    "\n",
    "This is a quick start guide to set up a Linux distribution on your  machine called [Ubuntu](https://ubuntu.com/desktop/wsl)."
   ]
  },
  {
   "cell_type": "markdown",
   "metadata": {},
   "source": [
    "# Step 1: Ubunt-Who?"
   ]
  },
  {
   "cell_type": "markdown",
   "metadata": {
    "vscode": {
     "languageId": "plaintext"
    }
   },
   "source": [
    "Search for Windows PowerShell in your Windows search bar, then select Run as administrator."
   ]
  },
  {
   "cell_type": "markdown",
   "metadata": {
    "vscode": {
     "languageId": "plaintext"
    }
   },
   "source": [
    "![image.png](../../static/Day_0_Setup/powershell.png)"
   ]
  },
  {
   "cell_type": "markdown",
   "metadata": {
    "vscode": {
     "languageId": "plaintext"
    }
   },
   "source": [
    "When powershell opens type `wsl --install -d ubuntu` and sit tight until this process completes. **When finished you will need to restart your computer.**"
   ]
  },
  {
   "cell_type": "markdown",
   "metadata": {},
   "source": [
    "# Step 2: Let's try that again...\n",
    "Restart your computer..."
   ]
  },
  {
   "cell_type": "markdown",
   "metadata": {},
   "source": [
    "# Step 3: Configure-Eight Ubuntu\n",
    "After restarting (and hopefully successfully installing) launch Ubuntu. An easy way to do this is searching for Ubuntu in the search bar:<br><br>\n",
    "\n",
    "![image.png](../../static/Day_0_Setup/ubuntu.png)\n",
    "\n",
    "Now after selecting Ubuntu you should see an Ubuntu terminal running. This means progress! If not and you run into an installation error there is likely an issue in your [BIOS configuration](https://ubuntu.com/tutorials/install-ubuntu-on-wsl2-on-windows-10#4-configure-ubuntu) (see the info box). Allow Ubuntu to finish its initial setup. Once complete enter a username and password. Finally ensure things are up to date by running `sudo apt update` (entering your password when queried) and then `sudo apt upgrade` pressing Y when prompted."
   ]
  },
  {
   "cell_type": "markdown",
   "metadata": {},
   "source": [
    "# DONE!\n",
    "![CharmanderUsedFireBlast](https://oyster.ignimgs.com/mediawiki/apis.ign.com/pokemon-blue-version/d/d4/Charmander.gif?width=325)\n",
    "\n",
    "You can now move onto the next step: [Day_0_Setup/Logging_In/LogginIn.ipynb](../../Day_0_Setup/Logging_In/LoggingIn.ipynb)"
   ]
  },
  {
   "cell_type": "markdown",
   "metadata": {},
   "source": [
    "---"
   ]
  }
 ],
 "metadata": {
  "kernelspec": {
   "display_name": "Python 3 (ipykernel)",
   "language": "python",
   "name": "python3"
  },
  "language_info": {
   "codemirror_mode": {
    "name": "ipython",
    "version": 3
   },
   "file_extension": ".py",
   "mimetype": "text/x-python",
   "name": "python",
   "nbconvert_exporter": "python",
   "pygments_lexer": "ipython3",
   "version": "3.9.5"
  }
 },
 "nbformat": 4,
 "nbformat_minor": 4
}
